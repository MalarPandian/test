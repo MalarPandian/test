{
  "nbformat": 4,
  "nbformat_minor": 0,
  "metadata": {
    "kernelspec": {
      "display_name": "Python 3",
      "language": "python",
      "name": "python3"
    },
    "language_info": {
      "codemirror_mode": {
        "name": "ipython",
        "version": 3
      },
      "file_extension": ".py",
      "mimetype": "text/x-python",
      "name": "python",
      "nbconvert_exporter": "python",
      "pygments_lexer": "ipython3",
      "version": "3.8.5"
    },
    "colab": {
      "name": "Multivariate_Final_project_Updated (1).ipynb",
      "provenance": []
    }
  },
  "cells": [
    {
      "cell_type": "code",
      "metadata": {
        "id": "HTnW0GKKcKQX"
      },
      "source": [
        "import pandas as pd\n",
        "import pandas as pd\n",
        "from sklearn.feature_selection import VarianceThreshold\n",
        "import numpy as np\n",
        "import matplotlib.pyplot as plt\n",
        "import seaborn as sns\n",
        "df=pd.read_excel(r\"Multivariate_final_data_set.xlsx\")"
      ],
      "execution_count": null,
      "outputs": []
    },
    {
      "cell_type": "code",
      "metadata": {
        "id": "oWhk6ikVcKQb"
      },
      "source": [
        "df=df.iloc[: , 0:]"
      ],
      "execution_count": null,
      "outputs": []
    },
    {
      "cell_type": "code",
      "metadata": {
        "colab": {
          "base_uri": "https://localhost:8080/",
          "height": 313
        },
        "id": "49cX5KSgcKQc",
        "outputId": "a47a3c22-3b51-4b68-d16b-07f4f0a57989"
      },
      "source": [
        "df.head()"
      ],
      "execution_count": null,
      "outputs": [
        {
          "output_type": "execute_result",
          "data": {
            "text/html": [
              "<div>\n",
              "<style scoped>\n",
              "    .dataframe tbody tr th:only-of-type {\n",
              "        vertical-align: middle;\n",
              "    }\n",
              "\n",
              "    .dataframe tbody tr th {\n",
              "        vertical-align: top;\n",
              "    }\n",
              "\n",
              "    .dataframe thead th {\n",
              "        text-align: right;\n",
              "    }\n",
              "</style>\n",
              "<table border=\"1\" class=\"dataframe\">\n",
              "  <thead>\n",
              "    <tr style=\"text-align: right;\">\n",
              "      <th></th>\n",
              "      <th>client_id</th>\n",
              "      <th>invoice_date</th>\n",
              "      <th>tarif_type</th>\n",
              "      <th>counter_number</th>\n",
              "      <th>counter_statue</th>\n",
              "      <th>counter_code</th>\n",
              "      <th>reading_remarque</th>\n",
              "      <th>counter_coefficient</th>\n",
              "      <th>consommation_level_1</th>\n",
              "      <th>consommation_level_2</th>\n",
              "      <th>consommation_level_3</th>\n",
              "      <th>consommation_level_4</th>\n",
              "      <th>old_index</th>\n",
              "      <th>new_index</th>\n",
              "      <th>months_number</th>\n",
              "      <th>counter_type</th>\n",
              "      <th>client_catg</th>\n",
              "      <th>region</th>\n",
              "      <th>creation_date</th>\n",
              "      <th>target</th>\n",
              "    </tr>\n",
              "  </thead>\n",
              "  <tbody>\n",
              "    <tr>\n",
              "      <th>0</th>\n",
              "      <td>train_Client_100032</td>\n",
              "      <td>2017-02-24</td>\n",
              "      <td>11</td>\n",
              "      <td>393848</td>\n",
              "      <td>0</td>\n",
              "      <td>203</td>\n",
              "      <td>9</td>\n",
              "      <td>1</td>\n",
              "      <td>781</td>\n",
              "      <td>0</td>\n",
              "      <td>0</td>\n",
              "      <td>0</td>\n",
              "      <td>3844</td>\n",
              "      <td>4625</td>\n",
              "      <td>8</td>\n",
              "      <td>ELEC</td>\n",
              "      <td>11</td>\n",
              "      <td>308</td>\n",
              "      <td>2012-07-11 00:00:00</td>\n",
              "      <td>1</td>\n",
              "    </tr>\n",
              "    <tr>\n",
              "      <th>1</th>\n",
              "      <td>train_Client_100032</td>\n",
              "      <td>2016-06-21</td>\n",
              "      <td>11</td>\n",
              "      <td>393848</td>\n",
              "      <td>0</td>\n",
              "      <td>203</td>\n",
              "      <td>9</td>\n",
              "      <td>1</td>\n",
              "      <td>382</td>\n",
              "      <td>0</td>\n",
              "      <td>0</td>\n",
              "      <td>0</td>\n",
              "      <td>3462</td>\n",
              "      <td>3844</td>\n",
              "      <td>4</td>\n",
              "      <td>ELEC</td>\n",
              "      <td>11</td>\n",
              "      <td>308</td>\n",
              "      <td>2012-07-11 00:00:00</td>\n",
              "      <td>1</td>\n",
              "    </tr>\n",
              "    <tr>\n",
              "      <th>2</th>\n",
              "      <td>train_Client_100032</td>\n",
              "      <td>2018-10-26</td>\n",
              "      <td>11</td>\n",
              "      <td>393848</td>\n",
              "      <td>0</td>\n",
              "      <td>203</td>\n",
              "      <td>9</td>\n",
              "      <td>1</td>\n",
              "      <td>373</td>\n",
              "      <td>0</td>\n",
              "      <td>0</td>\n",
              "      <td>0</td>\n",
              "      <td>6032</td>\n",
              "      <td>6405</td>\n",
              "      <td>4</td>\n",
              "      <td>ELEC</td>\n",
              "      <td>11</td>\n",
              "      <td>308</td>\n",
              "      <td>2012-07-11 00:00:00</td>\n",
              "      <td>1</td>\n",
              "    </tr>\n",
              "    <tr>\n",
              "      <th>3</th>\n",
              "      <td>train_Client_100032</td>\n",
              "      <td>2018-06-21</td>\n",
              "      <td>11</td>\n",
              "      <td>393848</td>\n",
              "      <td>0</td>\n",
              "      <td>203</td>\n",
              "      <td>9</td>\n",
              "      <td>1</td>\n",
              "      <td>328</td>\n",
              "      <td>0</td>\n",
              "      <td>0</td>\n",
              "      <td>0</td>\n",
              "      <td>5704</td>\n",
              "      <td>6032</td>\n",
              "      <td>4</td>\n",
              "      <td>ELEC</td>\n",
              "      <td>11</td>\n",
              "      <td>308</td>\n",
              "      <td>2012-07-11 00:00:00</td>\n",
              "      <td>1</td>\n",
              "    </tr>\n",
              "    <tr>\n",
              "      <th>4</th>\n",
              "      <td>train_Client_100032</td>\n",
              "      <td>2018-02-23</td>\n",
              "      <td>11</td>\n",
              "      <td>393848</td>\n",
              "      <td>0</td>\n",
              "      <td>203</td>\n",
              "      <td>9</td>\n",
              "      <td>1</td>\n",
              "      <td>703</td>\n",
              "      <td>0</td>\n",
              "      <td>0</td>\n",
              "      <td>0</td>\n",
              "      <td>5001</td>\n",
              "      <td>5704</td>\n",
              "      <td>4</td>\n",
              "      <td>ELEC</td>\n",
              "      <td>11</td>\n",
              "      <td>308</td>\n",
              "      <td>2012-07-11 00:00:00</td>\n",
              "      <td>1</td>\n",
              "    </tr>\n",
              "  </tbody>\n",
              "</table>\n",
              "</div>"
            ],
            "text/plain": [
              "             client_id invoice_date  ...        creation_date  target\n",
              "0  train_Client_100032   2017-02-24  ...  2012-07-11 00:00:00       1\n",
              "1  train_Client_100032   2016-06-21  ...  2012-07-11 00:00:00       1\n",
              "2  train_Client_100032   2018-10-26  ...  2012-07-11 00:00:00       1\n",
              "3  train_Client_100032   2018-06-21  ...  2012-07-11 00:00:00       1\n",
              "4  train_Client_100032   2018-02-23  ...  2012-07-11 00:00:00       1\n",
              "\n",
              "[5 rows x 20 columns]"
            ]
          },
          "metadata": {},
          "execution_count": 10
        }
      ]
    },
    {
      "cell_type": "code",
      "metadata": {
        "colab": {
          "base_uri": "https://localhost:8080/"
        },
        "id": "jwhQVc0acKQe",
        "outputId": "fac7adeb-3c79-4443-8c9c-22958e043799"
      },
      "source": [
        "df.shape\n"
      ],
      "execution_count": null,
      "outputs": [
        {
          "output_type": "execute_result",
          "data": {
            "text/plain": [
              "(1465, 20)"
            ]
          },
          "metadata": {},
          "execution_count": 11
        }
      ]
    },
    {
      "cell_type": "code",
      "metadata": {
        "colab": {
          "base_uri": "https://localhost:8080/"
        },
        "id": "J6qvw4dBcKQf",
        "outputId": "086d43a8-2795-4920-82dc-5f7232e35393"
      },
      "source": [
        "df.columns"
      ],
      "execution_count": null,
      "outputs": [
        {
          "output_type": "execute_result",
          "data": {
            "text/plain": [
              "Index(['client_id', 'invoice_date', 'tarif_type', 'counter_number',\n",
              "       'counter_statue', 'counter_code', 'reading_remarque',\n",
              "       'counter_coefficient', 'consommation_level_1', 'consommation_level_2',\n",
              "       'consommation_level_3', 'consommation_level_4', 'old_index',\n",
              "       'new_index', 'months_number', 'counter_type', 'client_catg', 'region',\n",
              "       'creation_date', 'target'],\n",
              "      dtype='object')"
            ]
          },
          "metadata": {},
          "execution_count": 12
        }
      ]
    },
    {
      "cell_type": "code",
      "metadata": {
        "colab": {
          "base_uri": "https://localhost:8080/"
        },
        "id": "YQVwnJi0cKQh",
        "outputId": "f223e814-c0b5-450f-e262-7b931701d8a7"
      },
      "source": [
        "df.isnull().values.any()"
      ],
      "execution_count": null,
      "outputs": [
        {
          "output_type": "execute_result",
          "data": {
            "text/plain": [
              "False"
            ]
          },
          "metadata": {},
          "execution_count": 13
        }
      ]
    },
    {
      "cell_type": "code",
      "metadata": {
        "colab": {
          "base_uri": "https://localhost:8080/"
        },
        "id": "mPtuEQMqcKQi",
        "outputId": "363c737f-2f23-4621-ddba-21866cd02bdc"
      },
      "source": [
        "df['target'].value_counts()    "
      ],
      "execution_count": null,
      "outputs": [
        {
          "output_type": "execute_result",
          "data": {
            "text/plain": [
              "1    779\n",
              "0    686\n",
              "Name: target, dtype: int64"
            ]
          },
          "metadata": {},
          "execution_count": 14
        }
      ]
    },
    {
      "cell_type": "code",
      "metadata": {
        "colab": {
          "base_uri": "https://localhost:8080/"
        },
        "id": "mNW-WVencKQj",
        "outputId": "0f459c71-3fea-4e8e-f2dd-44afa66703c3"
      },
      "source": [
        "df.apply(lambda col: len(col.unique())) # Checking the unique number of "
      ],
      "execution_count": null,
      "outputs": [
        {
          "output_type": "execute_result",
          "data": {
            "text/plain": [
              "client_id                 40\n",
              "invoice_date             860\n",
              "tarif_type                 6\n",
              "counter_number            71\n",
              "counter_statue             4\n",
              "counter_code               9\n",
              "reading_remarque           3\n",
              "counter_coefficient        1\n",
              "consommation_level_1     678\n",
              "consommation_level_2     109\n",
              "consommation_level_3      50\n",
              "consommation_level_4      22\n",
              "old_index               1286\n",
              "new_index               1319\n",
              "months_number             11\n",
              "counter_type               2\n",
              "client_catg                3\n",
              "region                    19\n",
              "creation_date             40\n",
              "target                     2\n",
              "dtype: int64"
            ]
          },
          "metadata": {},
          "execution_count": 15
        }
      ]
    },
    {
      "cell_type": "code",
      "metadata": {
        "id": "mCYD_yVIcKQk"
      },
      "source": [
        "df.drop(columns=['client_id','invoice_date','old_index','new_index','creation_date','counter_number'],axis=1,inplace=True)\n",
        "# in our case, ['tarif_type', 'counter_statue', 'reading_remarque  ', 'counter_coefficient', 'counter_type ', 'client_catg', 'region '] are dummy variables"
      ],
      "execution_count": null,
      "outputs": []
    },
    {
      "cell_type": "code",
      "metadata": {
        "id": "0K6d9jTdcKQl"
      },
      "source": [
        "df.__dict__.update(df.astype({'tarif_type': 'object','counter_statue':'object','reading_remarque':'object','counter_type':'object','client_catg':'object','region':'object','counter_coefficient':'object'}).__dict__)"
      ],
      "execution_count": null,
      "outputs": []
    },
    {
      "cell_type": "code",
      "metadata": {
        "id": "dZbM2K8PcKQm"
      },
      "source": [
        "categorical_variable=[feature for feature in df.columns if df[feature].dtype=='O']"
      ],
      "execution_count": null,
      "outputs": []
    },
    {
      "cell_type": "code",
      "metadata": {
        "colab": {
          "base_uri": "https://localhost:8080/"
        },
        "id": "HKnOiQJlcKQm",
        "outputId": "e8c2d928-8cca-4128-9af8-bbe700a001c6"
      },
      "source": [
        "categorical_variable"
      ],
      "execution_count": null,
      "outputs": [
        {
          "output_type": "execute_result",
          "data": {
            "text/plain": [
              "['tarif_type',\n",
              " 'counter_statue',\n",
              " 'reading_remarque',\n",
              " 'counter_coefficient',\n",
              " 'counter_type',\n",
              " 'client_catg',\n",
              " 'region']"
            ]
          },
          "metadata": {},
          "execution_count": 19
        }
      ]
    },
    {
      "cell_type": "code",
      "metadata": {
        "colab": {
          "base_uri": "https://localhost:8080/",
          "height": 513
        },
        "id": "oIdSp33JcKQn",
        "outputId": "e8e8b54c-63df-43e8-c784-ea3c7115baf9"
      },
      "source": [
        "f,ax=plt.subplots(1,2,figsize=(18,8))\n",
        "\n",
        "ax[0] = df['target'].value_counts().plot.pie(explode=[0,0],autopct='%1.1f%%',ax=ax[0],shadow=True)\n",
        "ax[0].set_title('Target Variable')\n",
        "\n",
        "\n",
        "#f, ax = plt.subplots(figsize=(6, 8))\n",
        "ax[1] = sns.countplot(x=\"target\", data=df, palette=\"Set1\")\n",
        "ax[1].set_title(\"Frequency distribution of target variable\")\n",
        "\n",
        "plt.show()"
      ],
      "execution_count": null,
      "outputs": [
        {
          "output_type": "display_data",
          "data": {
            "image/png": "[encoded data removed]",
            "text/plain": [
              "<Figure size 1296x576 with 2 Axes>"
            ]
          },
          "metadata": {
            "needs_background": "light"
          }
        }
      ]
    },
    {
      "cell_type": "code",
      "metadata": {
        "scrolled": false,
        "colab": {
          "base_uri": "https://localhost:8080/",
          "height": 1000
        },
        "id": "hFHXdS-acKQo",
        "outputId": "b981eb79-fc30-42c1-d2d0-c4fd23036ee4"
      },
      "source": [
        "sns.set_theme(style=\"darkgrid\")\n",
        "for feature in categorical_variable:\n",
        "    data=df.copy()\n",
        "    sns.countplot(x=feature, hue='target',data=df)\n",
        "    plt.xlabel(feature)\n",
        "    plt.ylabel('Count')\n",
        "    plt.xticks(rotation=90)\n",
        "    plt.show()\n",
        "    "
      ],
      "execution_count": null,
      "outputs": [
        {
          "output_type": "display_data",
          "data": {
            "image/png": "[encoded data removed]",
            "text/plain": [
              "<Figure size 432x288 with 1 Axes>"
            ]
          },
          "metadata": {}
        },
        {
          "output_type": "display_data",
          "data": {
            "image/png": "[encoded data removed]",
            "text/plain": [
              "<Figure size 432x288 with 1 Axes>"
            ]
          },
          "metadata": {}
        },
        {
          "output_type": "display_data",
          "data": {
            "image/png": "[encoded data removed]",
            "text/plain": [
              "<Figure size 432x288 with 1 Axes>"
            ]
          },
          "metadata": {}
        },
        {
          "output_type": "display_data",
          "data": {
            "image/png": "[encoded data removed]",
            "text/plain": [
              "<Figure size 432x288 with 1 Axes>"
            ]
          },
          "metadata": {}
        },
        {
          "output_type": "display_data",
          "data": {
            "image/png": "[encoded data removed]",
            "text/plain": [
              "<Figure size 432x288 with 1 Axes>"
            ]
          },
          "metadata": {}
        },
        {
          "output_type": "display_data",
          "data": {
            "image/png": "[encoded data removed]",
            "text/plain": [
              "<Figure size 432x288 with 1 Axes>"
            ]
          },
          "metadata": {}
        },
        {
          "output_type": "display_data",
          "data": {
            "image/png": "[encoded data removed]",
            "text/plain": [
              "<Figure size 432x288 with 1 Axes>"
            ]
          },
          "metadata": {}
        }
      ]
    },
    {
      "cell_type": "code",
      "metadata": {
        "id": "4cPOdnNYcKQp"
      },
      "source": [
        "numeric_feature=[feature for feature in df.columns if feature not in categorical_variable and feature!='target']"
      ],
      "execution_count": null,
      "outputs": []
    },
    {
      "cell_type": "code",
      "metadata": {
        "colab": {
          "base_uri": "https://localhost:8080/"
        },
        "id": "iyPvmsXucKQq",
        "outputId": "041abcbc-8135-4633-d00d-10ecf17787f1"
      },
      "source": [
        "numeric_feature"
      ],
      "execution_count": null,
      "outputs": [
        {
          "output_type": "execute_result",
          "data": {
            "text/plain": [
              "['counter_code',\n",
              " 'consommation_level_1',\n",
              " 'consommation_level_2',\n",
              " 'consommation_level_3',\n",
              " 'consommation_level_4',\n",
              " 'months_number']"
            ]
          },
          "metadata": {},
          "execution_count": 23
        }
      ]
    },
    {
      "cell_type": "code",
      "metadata": {
        "id": "iJZqXizvcKQq"
      },
      "source": [
        "dis_feature=[feature for feature in numeric_feature if len(df[feature].unique())<=25 ]"
      ],
      "execution_count": null,
      "outputs": []
    },
    {
      "cell_type": "code",
      "metadata": {
        "id": "oofuAfYZcKQr"
      },
      "source": [
        "cont_features=[feature for feature in numeric_feature if feature not in dis_feature]"
      ],
      "execution_count": null,
      "outputs": []
    },
    {
      "cell_type": "code",
      "metadata": {
        "colab": {
          "base_uri": "https://localhost:8080/"
        },
        "id": "O7MkXWLVcKQr",
        "outputId": "d76e85f6-fe39-40e7-d018-e54c95c88ffe"
      },
      "source": [
        "cont_features"
      ],
      "execution_count": null,
      "outputs": [
        {
          "output_type": "execute_result",
          "data": {
            "text/plain": [
              "['consommation_level_1', 'consommation_level_2', 'consommation_level_3']"
            ]
          },
          "metadata": {},
          "execution_count": 26
        }
      ]
    },
    {
      "cell_type": "code",
      "metadata": {
        "colab": {
          "base_uri": "https://localhost:8080/",
          "height": 1000
        },
        "id": "vvU2waV1cKQr",
        "outputId": "d44c46b2-4d37-45f4-94ac-4b29e074b7ce"
      },
      "source": [
        "f, ax = plt.subplots(figsize=(10,8))\n",
        "for i in cont_features:\n",
        "    \n",
        "    ax = sns.boxplot(x=df[i])\n",
        "    plt.xlabel(i)\n",
        "    ax.set_title(\"Visualize outliers\")\n",
        "    plt.show()"
      ],
      "execution_count": null,
      "outputs": [
        {
          "output_type": "display_data",
          "data": {
            "image/png": "[encoded data removed]",
            "text/plain": [
              "<Figure size 720x576 with 1 Axes>"
            ]
          },
          "metadata": {}
        },
        {
          "output_type": "display_data",
          "data": {
            "image/png": "[encoded data removed]",
            "text/plain": [
              "<Figure size 432x288 with 1 Axes>"
            ]
          },
          "metadata": {}
        },
        {
          "output_type": "display_data",
          "data": {
            "image/png": "[encoded data removed]",
            "text/plain": [
              "<Figure size 432x288 with 1 Axes>"
            ]
          },
          "metadata": {}
        }
      ]
    },
    {
      "cell_type": "code",
      "metadata": {
        "colab": {
          "base_uri": "https://localhost:8080/"
        },
        "id": "Yj4NNEOGcKQs",
        "outputId": "5e05730b-842e-45bd-8766-cf6445c4f59e"
      },
      "source": [
        "dis_feature"
      ],
      "execution_count": null,
      "outputs": [
        {
          "output_type": "execute_result",
          "data": {
            "text/plain": [
              "['counter_code', 'consommation_level_4', 'months_number']"
            ]
          },
          "metadata": {},
          "execution_count": 28
        }
      ]
    },
    {
      "cell_type": "code",
      "metadata": {
        "colab": {
          "base_uri": "https://localhost:8080/",
          "height": 863
        },
        "id": "xOwU4kZWcKQs",
        "outputId": "05988e46-5050-4063-9767-8107a2d18148"
      },
      "source": [
        "for feature in dis_feature:\n",
        "    d=df.copy()\n",
        "    sns.countplot(x=feature, hue=\"target\", data=df)\n",
        "    plt.xticks(rotation=90)\n",
        "    plt.xlabel(feature)\n",
        "    plt.show()"
      ],
      "execution_count": null,
      "outputs": [
        {
          "output_type": "display_data",
          "data": {
            "image/png": "[encoded data removed]",
            "text/plain": [
              "<Figure size 432x288 with 1 Axes>"
            ]
          },
          "metadata": {}
        },
        {
          "output_type": "display_data",
          "data": {
            "image/png": "[encoded data removed]",
            "text/plain": [
              "<Figure size 432x288 with 1 Axes>"
            ]
          },
          "metadata": {}
        },
        {
          "output_type": "display_data",
          "data": {
            "image/png": "[encoded data removed]",
            "text/plain": [
              "<Figure size 432x288 with 1 Axes>"
            ]
          },
          "metadata": {}
        }
      ]
    },
    {
      "cell_type": "code",
      "metadata": {
        "colab": {
          "base_uri": "https://localhost:8080/",
          "height": 875
        },
        "id": "doG43OBqcKQt",
        "outputId": "4ec22b1e-f8c0-456e-e8d4-175d72fd5286"
      },
      "source": [
        "for feature in cont_features:\n",
        "    d=df.copy()\n",
        "    sns.histplot(x=feature, data=df,kde=True)\n",
        "    plt.xticks(rotation=90)\n",
        "    plt.xlabel(feature)\n",
        "    plt.show()"
      ],
      "execution_count": null,
      "outputs": [
        {
          "output_type": "display_data",
          "data": {
            "image/png": "[encoded data removed]",
            "text/plain": [
              "<Figure size 432x288 with 1 Axes>"
            ]
          },
          "metadata": {}
        },
        {
          "output_type": "display_data",
          "data": {
            "image/png": "[encoded data removed]",
            "text/plain": [
              "<Figure size 432x288 with 1 Axes>"
            ]
          },
          "metadata": {}
        },
        {
          "output_type": "display_data",
          "data": {
            "image/png": "[encoded data removed]",
            "text/plain": [
              "<Figure size 432x288 with 1 Axes>"
            ]
          },
          "metadata": {}
        }
      ]
    },
    {
      "cell_type": "code",
      "metadata": {
        "colab": {
          "base_uri": "https://localhost:8080/",
          "height": 264
        },
        "id": "_ZW37DPIcKQt",
        "outputId": "b4dff078-4643-411c-b7da-5ba10afd1bee"
      },
      "source": [
        "sizes_gender = df['counter_type'].value_counts()    \n",
        "plt.pie(sizes_gender.tolist(),autopct='%1.2f%%',explode=[0.1,0],shadow=True, colors=['red', 'blue'])\n",
        "plt.legend(sizes_gender.index.values)\n",
        "plt.title('Proportion of counter_type')\n",
        "plt.show()"
      ],
      "execution_count": null,
      "outputs": [
        {
          "output_type": "display_data",
          "data": {
            "image/png": "[encoded data removed]",
            "text/plain": [
              "<Figure size 432x288 with 1 Axes>"
            ]
          },
          "metadata": {}
        }
      ]
    },
    {
      "cell_type": "code",
      "metadata": {
        "colab": {
          "base_uri": "https://localhost:8080/"
        },
        "id": "rgO0E_WfcKQu",
        "outputId": "c4befb7c-b62c-4f49-99e8-5614534f0c91"
      },
      "source": [
        "categorical_variable"
      ],
      "execution_count": null,
      "outputs": [
        {
          "output_type": "execute_result",
          "data": {
            "text/plain": [
              "['tarif_type',\n",
              " 'counter_statue',\n",
              " 'reading_remarque',\n",
              " 'counter_coefficient',\n",
              " 'counter_type',\n",
              " 'client_catg',\n",
              " 'region']"
            ]
          },
          "metadata": {},
          "execution_count": 32
        }
      ]
    },
    {
      "cell_type": "code",
      "metadata": {
        "colab": {
          "base_uri": "https://localhost:8080/"
        },
        "id": "H5ePgddocKQu",
        "outputId": "be3888d4-3e3c-460d-e19f-ef63d57b1646"
      },
      "source": [
        "# Creating Dummies\n",
        "col = ['tarif_type', 'counter_statue', 'reading_remarque', 'counter_coefficient', 'counter_type', 'client_catg', 'region']\n",
        "df2 = pd.get_dummies(df, columns = col, drop_first=True)\n",
        "df2.head()\n",
        "df2.shape"
      ],
      "execution_count": null,
      "outputs": [
        {
          "output_type": "execute_result",
          "data": {
            "text/plain": [
              "(1465, 38)"
            ]
          },
          "metadata": {},
          "execution_count": 33
        }
      ]
    },
    {
      "cell_type": "code",
      "metadata": {
        "colab": {
          "base_uri": "https://localhost:8080/"
        },
        "id": "2f4lSK0ycKQv",
        "outputId": "98825ef1-7aff-4b85-8645-7f1008da531e"
      },
      "source": [
        "import statsmodels.api as sm\n",
        "\n",
        "corr_matrix = sm.add_constant((df2.drop('target', axis = 1))).corr()\n",
        "for i in range(len(corr_matrix.columns)):\n",
        "    for j in range(i):\n",
        "        if (corr_matrix.iloc[i, j] >= 0.95) and i != j:\n",
        "            print(f\"{corr_matrix.columns[i]} and {corr_matrix.index[j]} have a correlation of {corr_matrix.iloc[i, j]}\" ) "
      ],
      "execution_count": null,
      "outputs": [
        {
          "output_type": "stream",
          "name": "stderr",
          "text": [
            "/usr/local/lib/python3.7/dist-packages/statsmodels/tools/_testing.py:19: FutureWarning: pandas.util.testing is deprecated. Use the functions in the public API at pandas.testing instead.\n",
            "  import pandas.util.testing as tm\n"
          ]
        },
        {
          "output_type": "stream",
          "name": "stdout",
          "text": [
            "counter_type_GAZ and tarif_type_40 have a correlation of 1.0\n"
          ]
        }
      ]
    },
    {
      "cell_type": "code",
      "metadata": {
        "id": "o1--hYjHcKQw"
      },
      "source": [
        "from sklearn.model_selection import train_test_split\n",
        "from sklearn import preprocessing\n",
        "from sklearn.linear_model import LogisticRegression\n",
        "\n",
        "y = df2['target']\n",
        "x = df2.drop(['target', 'tarif_type_40'], axis = 1)\n"
      ],
      "execution_count": null,
      "outputs": []
    },
    {
      "cell_type": "code",
      "metadata": {
        "colab": {
          "base_uri": "https://localhost:8080/",
          "height": 226
        },
        "id": "mdkO3nuyMmX2",
        "outputId": "bc666c1a-6c03-47a8-9562-555cbd91ea36"
      },
      "source": [
        "df2.head()"
      ],
      "execution_count": null,
      "outputs": [
        {
          "output_type": "execute_result",
          "data": {
            "text/html": [
              "<div>\n",
              "<style scoped>\n",
              "    .dataframe tbody tr th:only-of-type {\n",
              "        vertical-align: middle;\n",
              "    }\n",
              "\n",
              "    .dataframe tbody tr th {\n",
              "        vertical-align: top;\n",
              "    }\n",
              "\n",
              "    .dataframe thead th {\n",
              "        text-align: right;\n",
              "    }\n",
              "</style>\n",
              "<table border=\"1\" class=\"dataframe\">\n",
              "  <thead>\n",
              "    <tr style=\"text-align: right;\">\n",
              "      <th></th>\n",
              "      <th>counter_code</th>\n",
              "      <th>consommation_level_1</th>\n",
              "      <th>consommation_level_2</th>\n",
              "      <th>consommation_level_3</th>\n",
              "      <th>consommation_level_4</th>\n",
              "      <th>months_number</th>\n",
              "      <th>target</th>\n",
              "      <th>tarif_type_12</th>\n",
              "      <th>tarif_type_13</th>\n",
              "      <th>tarif_type_14</th>\n",
              "      <th>tarif_type_15</th>\n",
              "      <th>tarif_type_40</th>\n",
              "      <th>counter_statue_1</th>\n",
              "      <th>counter_statue_4</th>\n",
              "      <th>counter_statue_5</th>\n",
              "      <th>reading_remarque_8</th>\n",
              "      <th>reading_remarque_9</th>\n",
              "      <th>counter_type_GAZ</th>\n",
              "      <th>client_catg_12</th>\n",
              "      <th>client_catg_51</th>\n",
              "      <th>region_103</th>\n",
              "      <th>region_104</th>\n",
              "      <th>region_105</th>\n",
              "      <th>region_106</th>\n",
              "      <th>region_107</th>\n",
              "      <th>region_301</th>\n",
              "      <th>region_302</th>\n",
              "      <th>region_303</th>\n",
              "      <th>region_304</th>\n",
              "      <th>region_305</th>\n",
              "      <th>region_306</th>\n",
              "      <th>region_307</th>\n",
              "      <th>region_308</th>\n",
              "      <th>region_309</th>\n",
              "      <th>region_310</th>\n",
              "      <th>region_311</th>\n",
              "      <th>region_312</th>\n",
              "      <th>region_371</th>\n",
              "    </tr>\n",
              "  </thead>\n",
              "  <tbody>\n",
              "    <tr>\n",
              "      <th>0</th>\n",
              "      <td>203</td>\n",
              "      <td>781</td>\n",
              "      <td>0</td>\n",
              "      <td>0</td>\n",
              "      <td>0</td>\n",
              "      <td>8</td>\n",
              "      <td>1</td>\n",
              "      <td>0</td>\n",
              "      <td>0</td>\n",
              "      <td>0</td>\n",
              "      <td>0</td>\n",
              "      <td>0</td>\n",
              "      <td>0</td>\n",
              "      <td>0</td>\n",
              "      <td>0</td>\n",
              "      <td>0</td>\n",
              "      <td>1</td>\n",
              "      <td>0</td>\n",
              "      <td>0</td>\n",
              "      <td>0</td>\n",
              "      <td>0</td>\n",
              "      <td>0</td>\n",
              "      <td>0</td>\n",
              "      <td>0</td>\n",
              "      <td>0</td>\n",
              "      <td>0</td>\n",
              "      <td>0</td>\n",
              "      <td>0</td>\n",
              "      <td>0</td>\n",
              "      <td>0</td>\n",
              "      <td>0</td>\n",
              "      <td>0</td>\n",
              "      <td>1</td>\n",
              "      <td>0</td>\n",
              "      <td>0</td>\n",
              "      <td>0</td>\n",
              "      <td>0</td>\n",
              "      <td>0</td>\n",
              "    </tr>\n",
              "    <tr>\n",
              "      <th>1</th>\n",
              "      <td>203</td>\n",
              "      <td>382</td>\n",
              "      <td>0</td>\n",
              "      <td>0</td>\n",
              "      <td>0</td>\n",
              "      <td>4</td>\n",
              "      <td>1</td>\n",
              "      <td>0</td>\n",
              "      <td>0</td>\n",
              "      <td>0</td>\n",
              "      <td>0</td>\n",
              "      <td>0</td>\n",
              "      <td>0</td>\n",
              "      <td>0</td>\n",
              "      <td>0</td>\n",
              "      <td>0</td>\n",
              "      <td>1</td>\n",
              "      <td>0</td>\n",
              "      <td>0</td>\n",
              "      <td>0</td>\n",
              "      <td>0</td>\n",
              "      <td>0</td>\n",
              "      <td>0</td>\n",
              "      <td>0</td>\n",
              "      <td>0</td>\n",
              "      <td>0</td>\n",
              "      <td>0</td>\n",
              "      <td>0</td>\n",
              "      <td>0</td>\n",
              "      <td>0</td>\n",
              "      <td>0</td>\n",
              "      <td>0</td>\n",
              "      <td>1</td>\n",
              "      <td>0</td>\n",
              "      <td>0</td>\n",
              "      <td>0</td>\n",
              "      <td>0</td>\n",
              "      <td>0</td>\n",
              "    </tr>\n",
              "    <tr>\n",
              "      <th>2</th>\n",
              "      <td>203</td>\n",
              "      <td>373</td>\n",
              "      <td>0</td>\n",
              "      <td>0</td>\n",
              "      <td>0</td>\n",
              "      <td>4</td>\n",
              "      <td>1</td>\n",
              "      <td>0</td>\n",
              "      <td>0</td>\n",
              "      <td>0</td>\n",
              "      <td>0</td>\n",
              "      <td>0</td>\n",
              "      <td>0</td>\n",
              "      <td>0</td>\n",
              "      <td>0</td>\n",
              "      <td>0</td>\n",
              "      <td>1</td>\n",
              "      <td>0</td>\n",
              "      <td>0</td>\n",
              "      <td>0</td>\n",
              "      <td>0</td>\n",
              "      <td>0</td>\n",
              "      <td>0</td>\n",
              "      <td>0</td>\n",
              "      <td>0</td>\n",
              "      <td>0</td>\n",
              "      <td>0</td>\n",
              "      <td>0</td>\n",
              "      <td>0</td>\n",
              "      <td>0</td>\n",
              "      <td>0</td>\n",
              "      <td>0</td>\n",
              "      <td>1</td>\n",
              "      <td>0</td>\n",
              "      <td>0</td>\n",
              "      <td>0</td>\n",
              "      <td>0</td>\n",
              "      <td>0</td>\n",
              "    </tr>\n",
              "    <tr>\n",
              "      <th>3</th>\n",
              "      <td>203</td>\n",
              "      <td>328</td>\n",
              "      <td>0</td>\n",
              "      <td>0</td>\n",
              "      <td>0</td>\n",
              "      <td>4</td>\n",
              "      <td>1</td>\n",
              "      <td>0</td>\n",
              "      <td>0</td>\n",
              "      <td>0</td>\n",
              "      <td>0</td>\n",
              "      <td>0</td>\n",
              "      <td>0</td>\n",
              "      <td>0</td>\n",
              "      <td>0</td>\n",
              "      <td>0</td>\n",
              "      <td>1</td>\n",
              "      <td>0</td>\n",
              "      <td>0</td>\n",
              "      <td>0</td>\n",
              "      <td>0</td>\n",
              "      <td>0</td>\n",
              "      <td>0</td>\n",
              "      <td>0</td>\n",
              "      <td>0</td>\n",
              "      <td>0</td>\n",
              "      <td>0</td>\n",
              "      <td>0</td>\n",
              "      <td>0</td>\n",
              "      <td>0</td>\n",
              "      <td>0</td>\n",
              "      <td>0</td>\n",
              "      <td>1</td>\n",
              "      <td>0</td>\n",
              "      <td>0</td>\n",
              "      <td>0</td>\n",
              "      <td>0</td>\n",
              "      <td>0</td>\n",
              "    </tr>\n",
              "    <tr>\n",
              "      <th>4</th>\n",
              "      <td>203</td>\n",
              "      <td>703</td>\n",
              "      <td>0</td>\n",
              "      <td>0</td>\n",
              "      <td>0</td>\n",
              "      <td>4</td>\n",
              "      <td>1</td>\n",
              "      <td>0</td>\n",
              "      <td>0</td>\n",
              "      <td>0</td>\n",
              "      <td>0</td>\n",
              "      <td>0</td>\n",
              "      <td>0</td>\n",
              "      <td>0</td>\n",
              "      <td>0</td>\n",
              "      <td>0</td>\n",
              "      <td>1</td>\n",
              "      <td>0</td>\n",
              "      <td>0</td>\n",
              "      <td>0</td>\n",
              "      <td>0</td>\n",
              "      <td>0</td>\n",
              "      <td>0</td>\n",
              "      <td>0</td>\n",
              "      <td>0</td>\n",
              "      <td>0</td>\n",
              "      <td>0</td>\n",
              "      <td>0</td>\n",
              "      <td>0</td>\n",
              "      <td>0</td>\n",
              "      <td>0</td>\n",
              "      <td>0</td>\n",
              "      <td>1</td>\n",
              "      <td>0</td>\n",
              "      <td>0</td>\n",
              "      <td>0</td>\n",
              "      <td>0</td>\n",
              "      <td>0</td>\n",
              "    </tr>\n",
              "  </tbody>\n",
              "</table>\n",
              "</div>"
            ],
            "text/plain": [
              "   counter_code  consommation_level_1  ...  region_312  region_371\n",
              "0           203                   781  ...           0           0\n",
              "1           203                   382  ...           0           0\n",
              "2           203                   373  ...           0           0\n",
              "3           203                   328  ...           0           0\n",
              "4           203                   703  ...           0           0\n",
              "\n",
              "[5 rows x 38 columns]"
            ]
          },
          "metadata": {},
          "execution_count": 102
        }
      ]
    },
    {
      "cell_type": "code",
      "metadata": {
        "id": "YhEAO9shcKQx"
      },
      "source": [
        "x_train, x_test, y_train, y_test = train_test_split(x, y, test_size = 0.2, random_state = 0)"
      ],
      "execution_count": null,
      "outputs": []
    },
    {
      "cell_type": "code",
      "metadata": {
        "colab": {
          "base_uri": "https://localhost:8080/",
          "height": 226
        },
        "id": "Y1RhPcW2Mpnu",
        "outputId": "36461451-ccba-47eb-deb9-6e90a9b06ea0"
      },
      "source": [
        "x_train.head()"
      ],
      "execution_count": null,
      "outputs": [
        {
          "output_type": "execute_result",
          "data": {
            "text/html": [
              "<div>\n",
              "<style scoped>\n",
              "    .dataframe tbody tr th:only-of-type {\n",
              "        vertical-align: middle;\n",
              "    }\n",
              "\n",
              "    .dataframe tbody tr th {\n",
              "        vertical-align: top;\n",
              "    }\n",
              "\n",
              "    .dataframe thead th {\n",
              "        text-align: right;\n",
              "    }\n",
              "</style>\n",
              "<table border=\"1\" class=\"dataframe\">\n",
              "  <thead>\n",
              "    <tr style=\"text-align: right;\">\n",
              "      <th></th>\n",
              "      <th>counter_code</th>\n",
              "      <th>consommation_level_1</th>\n",
              "      <th>consommation_level_2</th>\n",
              "      <th>consommation_level_3</th>\n",
              "      <th>consommation_level_4</th>\n",
              "      <th>months_number</th>\n",
              "      <th>tarif_type_12</th>\n",
              "      <th>tarif_type_13</th>\n",
              "      <th>tarif_type_14</th>\n",
              "      <th>tarif_type_15</th>\n",
              "      <th>counter_statue_1</th>\n",
              "      <th>counter_statue_4</th>\n",
              "      <th>counter_statue_5</th>\n",
              "      <th>reading_remarque_8</th>\n",
              "      <th>reading_remarque_9</th>\n",
              "      <th>counter_type_GAZ</th>\n",
              "      <th>client_catg_12</th>\n",
              "      <th>client_catg_51</th>\n",
              "      <th>region_103</th>\n",
              "      <th>region_104</th>\n",
              "      <th>region_105</th>\n",
              "      <th>region_106</th>\n",
              "      <th>region_107</th>\n",
              "      <th>region_301</th>\n",
              "      <th>region_302</th>\n",
              "      <th>region_303</th>\n",
              "      <th>region_304</th>\n",
              "      <th>region_305</th>\n",
              "      <th>region_306</th>\n",
              "      <th>region_307</th>\n",
              "      <th>region_308</th>\n",
              "      <th>region_309</th>\n",
              "      <th>region_310</th>\n",
              "      <th>region_311</th>\n",
              "      <th>region_312</th>\n",
              "      <th>region_371</th>\n",
              "    </tr>\n",
              "  </thead>\n",
              "  <tbody>\n",
              "    <tr>\n",
              "      <th>333</th>\n",
              "      <td>203</td>\n",
              "      <td>401</td>\n",
              "      <td>0</td>\n",
              "      <td>0</td>\n",
              "      <td>0</td>\n",
              "      <td>4</td>\n",
              "      <td>0</td>\n",
              "      <td>0</td>\n",
              "      <td>0</td>\n",
              "      <td>0</td>\n",
              "      <td>0</td>\n",
              "      <td>0</td>\n",
              "      <td>0</td>\n",
              "      <td>1</td>\n",
              "      <td>0</td>\n",
              "      <td>0</td>\n",
              "      <td>0</td>\n",
              "      <td>0</td>\n",
              "      <td>0</td>\n",
              "      <td>0</td>\n",
              "      <td>0</td>\n",
              "      <td>0</td>\n",
              "      <td>1</td>\n",
              "      <td>0</td>\n",
              "      <td>0</td>\n",
              "      <td>0</td>\n",
              "      <td>0</td>\n",
              "      <td>0</td>\n",
              "      <td>0</td>\n",
              "      <td>0</td>\n",
              "      <td>0</td>\n",
              "      <td>0</td>\n",
              "      <td>0</td>\n",
              "      <td>0</td>\n",
              "      <td>0</td>\n",
              "      <td>0</td>\n",
              "    </tr>\n",
              "    <tr>\n",
              "      <th>1149</th>\n",
              "      <td>5</td>\n",
              "      <td>95</td>\n",
              "      <td>0</td>\n",
              "      <td>0</td>\n",
              "      <td>0</td>\n",
              "      <td>4</td>\n",
              "      <td>0</td>\n",
              "      <td>0</td>\n",
              "      <td>0</td>\n",
              "      <td>0</td>\n",
              "      <td>0</td>\n",
              "      <td>0</td>\n",
              "      <td>0</td>\n",
              "      <td>0</td>\n",
              "      <td>0</td>\n",
              "      <td>1</td>\n",
              "      <td>0</td>\n",
              "      <td>0</td>\n",
              "      <td>0</td>\n",
              "      <td>0</td>\n",
              "      <td>0</td>\n",
              "      <td>0</td>\n",
              "      <td>0</td>\n",
              "      <td>0</td>\n",
              "      <td>0</td>\n",
              "      <td>0</td>\n",
              "      <td>1</td>\n",
              "      <td>0</td>\n",
              "      <td>0</td>\n",
              "      <td>0</td>\n",
              "      <td>0</td>\n",
              "      <td>0</td>\n",
              "      <td>0</td>\n",
              "      <td>0</td>\n",
              "      <td>0</td>\n",
              "      <td>0</td>\n",
              "    </tr>\n",
              "    <tr>\n",
              "      <th>1052</th>\n",
              "      <td>5</td>\n",
              "      <td>193</td>\n",
              "      <td>0</td>\n",
              "      <td>0</td>\n",
              "      <td>0</td>\n",
              "      <td>4</td>\n",
              "      <td>0</td>\n",
              "      <td>0</td>\n",
              "      <td>0</td>\n",
              "      <td>0</td>\n",
              "      <td>0</td>\n",
              "      <td>0</td>\n",
              "      <td>0</td>\n",
              "      <td>0</td>\n",
              "      <td>0</td>\n",
              "      <td>1</td>\n",
              "      <td>0</td>\n",
              "      <td>0</td>\n",
              "      <td>0</td>\n",
              "      <td>0</td>\n",
              "      <td>0</td>\n",
              "      <td>0</td>\n",
              "      <td>0</td>\n",
              "      <td>0</td>\n",
              "      <td>0</td>\n",
              "      <td>0</td>\n",
              "      <td>0</td>\n",
              "      <td>0</td>\n",
              "      <td>0</td>\n",
              "      <td>0</td>\n",
              "      <td>0</td>\n",
              "      <td>0</td>\n",
              "      <td>0</td>\n",
              "      <td>0</td>\n",
              "      <td>0</td>\n",
              "      <td>0</td>\n",
              "    </tr>\n",
              "    <tr>\n",
              "      <th>1099</th>\n",
              "      <td>203</td>\n",
              "      <td>1809</td>\n",
              "      <td>0</td>\n",
              "      <td>0</td>\n",
              "      <td>0</td>\n",
              "      <td>8</td>\n",
              "      <td>0</td>\n",
              "      <td>0</td>\n",
              "      <td>0</td>\n",
              "      <td>0</td>\n",
              "      <td>0</td>\n",
              "      <td>0</td>\n",
              "      <td>0</td>\n",
              "      <td>1</td>\n",
              "      <td>0</td>\n",
              "      <td>0</td>\n",
              "      <td>0</td>\n",
              "      <td>0</td>\n",
              "      <td>0</td>\n",
              "      <td>0</td>\n",
              "      <td>0</td>\n",
              "      <td>0</td>\n",
              "      <td>0</td>\n",
              "      <td>0</td>\n",
              "      <td>0</td>\n",
              "      <td>0</td>\n",
              "      <td>1</td>\n",
              "      <td>0</td>\n",
              "      <td>0</td>\n",
              "      <td>0</td>\n",
              "      <td>0</td>\n",
              "      <td>0</td>\n",
              "      <td>0</td>\n",
              "      <td>0</td>\n",
              "      <td>0</td>\n",
              "      <td>0</td>\n",
              "    </tr>\n",
              "    <tr>\n",
              "      <th>61</th>\n",
              "      <td>203</td>\n",
              "      <td>800</td>\n",
              "      <td>39</td>\n",
              "      <td>0</td>\n",
              "      <td>0</td>\n",
              "      <td>4</td>\n",
              "      <td>0</td>\n",
              "      <td>0</td>\n",
              "      <td>0</td>\n",
              "      <td>0</td>\n",
              "      <td>0</td>\n",
              "      <td>0</td>\n",
              "      <td>0</td>\n",
              "      <td>0</td>\n",
              "      <td>1</td>\n",
              "      <td>0</td>\n",
              "      <td>0</td>\n",
              "      <td>0</td>\n",
              "      <td>0</td>\n",
              "      <td>0</td>\n",
              "      <td>0</td>\n",
              "      <td>0</td>\n",
              "      <td>1</td>\n",
              "      <td>0</td>\n",
              "      <td>0</td>\n",
              "      <td>0</td>\n",
              "      <td>0</td>\n",
              "      <td>0</td>\n",
              "      <td>0</td>\n",
              "      <td>0</td>\n",
              "      <td>0</td>\n",
              "      <td>0</td>\n",
              "      <td>0</td>\n",
              "      <td>0</td>\n",
              "      <td>0</td>\n",
              "      <td>0</td>\n",
              "    </tr>\n",
              "  </tbody>\n",
              "</table>\n",
              "</div>"
            ],
            "text/plain": [
              "      counter_code  consommation_level_1  ...  region_312  region_371\n",
              "333            203                   401  ...           0           0\n",
              "1149             5                    95  ...           0           0\n",
              "1052             5                   193  ...           0           0\n",
              "1099           203                  1809  ...           0           0\n",
              "61             203                   800  ...           0           0\n",
              "\n",
              "[5 rows x 36 columns]"
            ]
          },
          "metadata": {},
          "execution_count": 103
        }
      ]
    },
    {
      "cell_type": "code",
      "metadata": {
        "id": "WfCxhSLgcKQx"
      },
      "source": [
        "scaler = preprocessing.StandardScaler().fit(x_train)\n",
        "x_train_s = scaler.transform(x_train)\n",
        "x_test_s = scaler.transform(x_test)\n"
      ],
      "execution_count": null,
      "outputs": []
    },
    {
      "cell_type": "code",
      "metadata": {
        "colab": {
          "base_uri": "https://localhost:8080/"
        },
        "id": "pzN8HGzVD8J5",
        "outputId": "1dc73274-3208-4966-935d-740b6f97398d"
      },
      "source": [
        "print(pd.DataFrame(x_train_s).columns)"
      ],
      "execution_count": null,
      "outputs": [
        {
          "output_type": "stream",
          "name": "stdout",
          "text": [
            "RangeIndex(start=0, stop=36, step=1)\n"
          ]
        }
      ]
    },
    {
      "cell_type": "code",
      "metadata": {
        "colab": {
          "base_uri": "https://localhost:8080/",
          "height": 702
        },
        "id": "j2kJMYXKU-8G",
        "outputId": "ef411277-e30f-4bdc-8a39-67d11e45cc87"
      },
      "source": [
        "from sklearn.decomposition import PCA\n",
        "pca = PCA()\n",
        "pca.fit(x_train_s)\n",
        "print('Variance ratio of each pc:\\n', pca.explained_variance_ratio_, '\\n')\n",
        "print('Explained variance of each pc:\\n', pca.explained_variance_, '\\n')\n",
        "print('Selected {} pcs'.format(pca.n_components_))\n",
        "print('Original dataset shape: ', df2.shape)\n",
        "percentage_var_explained = pca.explained_variance_ratio_;  \n",
        "cum_var_explained=np.cumsum(percentage_var_explained)\n",
        "#plot PCA spectrum   \n",
        "plt.figure(1,figsize=(6,4))\n",
        "plt.clf()  \n",
        "plt.plot(cum_var_explained,linewidth=2)  \n",
        "plt.axis('tight')  \n",
        "plt.grid() \n",
        "plt.xlabel('n_components') \n",
        "plt.ylabel('Cumulative_Variance_explained')  \n",
        "plt.show()"
      ],
      "execution_count": null,
      "outputs": [
        {
          "output_type": "stream",
          "name": "stdout",
          "text": [
            "Variance ratio of each pc:\n",
            " [7.98757028e-02 6.13900530e-02 4.76351607e-02 4.29126341e-02\n",
            " 4.08479131e-02 4.02755094e-02 3.70489602e-02 3.64585235e-02\n",
            " 3.57105677e-02 3.35675349e-02 3.12573334e-02 3.08415329e-02\n",
            " 3.06460795e-02 2.96487143e-02 2.93277465e-02 2.90134841e-02\n",
            " 2.89478796e-02 2.88075117e-02 2.81627644e-02 2.80839058e-02\n",
            " 2.72303382e-02 2.67147566e-02 2.48831545e-02 2.44429847e-02\n",
            " 2.19374008e-02 1.99642263e-02 1.97694564e-02 1.87418103e-02\n",
            " 1.57976183e-02 1.51002545e-02 1.34639001e-02 9.47639440e-03\n",
            " 6.40619029e-03 3.89385762e-03 1.71814548e-03 1.57527048e-32] \n",
            "\n",
            "Explained variance of each pc:\n",
            " [2.87798092e+00 2.21192922e+00 1.71633023e+00 1.54617409e+00\n",
            " 1.47178066e+00 1.45115653e+00 1.33490156e+00 1.31362769e+00\n",
            " 1.28667829e+00 1.20946322e+00 1.12622494e+00 1.11124334e+00\n",
            " 1.10420101e+00 1.06826521e+00 1.05670049e+00 1.04537739e+00\n",
            " 1.04301361e+00 1.03795605e+00 1.01472532e+00 1.01188399e+00\n",
            " 9.81129316e-01 9.62552527e-01 8.96558544e-01 8.80698898e-01\n",
            " 7.90420851e-01 7.19325905e-01 7.12308202e-01 6.75281349e-01\n",
            " 5.69199923e-01 5.44073388e-01 4.85114323e-01 3.41441531e-01\n",
            " 2.30819796e-01 1.40298583e-01 6.19060583e-02 5.67581658e-31] \n",
            "\n",
            "Selected 36 pcs\n",
            "Original dataset shape:  (1465, 38)\n"
          ]
        },
        {
          "output_type": "display_data",
          "data": {
            "image/png": "[encoded data removed]",
            "text/plain": [
              "<Figure size 432x288 with 1 Axes>"
            ]
          },
          "metadata": {}
        }
      ]
    },
    {
      "cell_type": "code",
      "metadata": {
        "colab": {
          "base_uri": "https://localhost:8080/"
        },
        "id": "tHa7PwHFVb6T",
        "outputId": "bd370e43-8d5b-41ef-cee9-5d5c7cef57b2"
      },
      "source": [
        " \n",
        "pca.n_components=36\n",
        "\n",
        "# look at explainded variance of PCA components \n",
        "exp_var_cumsum=pd.Series(np.round(pca.explained_variance_ratio_.cumsum(),4)*100)  \n",
        "for index,var in enumerate(exp_var_cumsum):  \n",
        "    print('n_components= %d,   variance=%f\\n' %(index,np.round(var,3)))"
      ],
      "execution_count": null,
      "outputs": [
        {
          "output_type": "stream",
          "name": "stdout",
          "text": [
            "n_components= 0,   variance=7.990000\n",
            "\n",
            "n_components= 1,   variance=14.130000\n",
            "\n",
            "n_components= 2,   variance=18.890000\n",
            "\n",
            "n_components= 3,   variance=23.180000\n",
            "\n",
            "n_components= 4,   variance=27.270000\n",
            "\n",
            "n_components= 5,   variance=31.290000\n",
            "\n",
            "n_components= 6,   variance=35.000000\n",
            "\n",
            "n_components= 7,   variance=38.640000\n",
            "\n",
            "n_components= 8,   variance=42.220000\n",
            "\n",
            "n_components= 9,   variance=45.570000\n",
            "\n",
            "n_components= 10,   variance=48.700000\n",
            "\n",
            "n_components= 11,   variance=51.780000\n",
            "\n",
            "n_components= 12,   variance=54.850000\n",
            "\n",
            "n_components= 13,   variance=57.810000\n",
            "\n",
            "n_components= 14,   variance=60.740000\n",
            "\n",
            "n_components= 15,   variance=63.650000\n",
            "\n",
            "n_components= 16,   variance=66.540000\n",
            "\n",
            "n_components= 17,   variance=69.420000\n",
            "\n",
            "n_components= 18,   variance=72.240000\n",
            "\n",
            "n_components= 19,   variance=75.050000\n",
            "\n",
            "n_components= 20,   variance=77.770000\n",
            "\n",
            "n_components= 21,   variance=80.440000\n",
            "\n",
            "n_components= 22,   variance=82.930000\n",
            "\n",
            "n_components= 23,   variance=85.370000\n",
            "\n",
            "n_components= 24,   variance=87.570000\n",
            "\n",
            "n_components= 25,   variance=89.560000\n",
            "\n",
            "n_components= 26,   variance=91.540000\n",
            "\n",
            "n_components= 27,   variance=93.410000\n",
            "\n",
            "n_components= 28,   variance=94.990000\n",
            "\n",
            "n_components= 29,   variance=96.500000\n",
            "\n",
            "n_components= 30,   variance=97.850000\n",
            "\n",
            "n_components= 31,   variance=98.800000\n",
            "\n",
            "n_components= 32,   variance=99.440000\n",
            "\n",
            "n_components= 33,   variance=99.830000\n",
            "\n",
            "n_components= 34,   variance=100.000000\n",
            "\n",
            "n_components= 35,   variance=100.000000\n",
            "\n"
          ]
        }
      ]
    },
    {
      "cell_type": "code",
      "metadata": {
        "colab": {
          "base_uri": "https://localhost:8080/",
          "height": 234
        },
        "id": "2FhM1xtHcKQy",
        "outputId": "09897a2a-1f71-4313-8e4d-6d011d09a6a5"
      },
      "source": [
        "from sklearn.decomposition import PCA\n",
        "pca = PCA(n_components = 0.8)\n",
        "#pca.fit(x_train_s)\n",
        "print('Variance ratio of each pc:\\n', pca.explained_variance_ratio_, '\\n')\n",
        "print('Explained variance of each pc:\\n', pca.explained_variance_, '\\n')\n",
        "print('Selected {} pcs'.format(pca.n_components_))\n",
        "print('Original dataset shape: ', df2.shape)"
      ],
      "execution_count": null,
      "outputs": [
        {
          "output_type": "error",
          "ename": "AttributeError",
          "evalue": "ignored",
          "traceback": [
            "\u001b[0;31m---------------------------------------------------------------------------\u001b[0m",
            "\u001b[0;31mAttributeError\u001b[0m                            Traceback (most recent call last)",
            "\u001b[0;32m<ipython-input-38-c113666eca57>\u001b[0m in \u001b[0;36m<module>\u001b[0;34m()\u001b[0m\n\u001b[1;32m      2\u001b[0m \u001b[0mpca\u001b[0m \u001b[0;34m=\u001b[0m \u001b[0mPCA\u001b[0m\u001b[0;34m(\u001b[0m\u001b[0mn_components\u001b[0m \u001b[0;34m=\u001b[0m \u001b[0;36m0.8\u001b[0m\u001b[0;34m)\u001b[0m\u001b[0;34m\u001b[0m\u001b[0;34m\u001b[0m\u001b[0m\n\u001b[1;32m      3\u001b[0m \u001b[0;31m#pca.fit(x_train_s)\u001b[0m\u001b[0;34m\u001b[0m\u001b[0;34m\u001b[0m\u001b[0;34m\u001b[0m\u001b[0m\n\u001b[0;32m----> 4\u001b[0;31m \u001b[0mprint\u001b[0m\u001b[0;34m(\u001b[0m\u001b[0;34m'Variance ratio of each pc:\\n'\u001b[0m\u001b[0;34m,\u001b[0m \u001b[0mpca\u001b[0m\u001b[0;34m.\u001b[0m\u001b[0mexplained_variance_ratio_\u001b[0m\u001b[0;34m,\u001b[0m \u001b[0;34m'\\n'\u001b[0m\u001b[0;34m)\u001b[0m\u001b[0;34m\u001b[0m\u001b[0;34m\u001b[0m\u001b[0m\n\u001b[0m\u001b[1;32m      5\u001b[0m \u001b[0mprint\u001b[0m\u001b[0;34m(\u001b[0m\u001b[0;34m'Explained variance of each pc:\\n'\u001b[0m\u001b[0;34m,\u001b[0m \u001b[0mpca\u001b[0m\u001b[0;34m.\u001b[0m\u001b[0mexplained_variance_\u001b[0m\u001b[0;34m,\u001b[0m \u001b[0;34m'\\n'\u001b[0m\u001b[0;34m)\u001b[0m\u001b[0;34m\u001b[0m\u001b[0;34m\u001b[0m\u001b[0m\n\u001b[1;32m      6\u001b[0m \u001b[0mprint\u001b[0m\u001b[0;34m(\u001b[0m\u001b[0;34m'Selected {} pcs'\u001b[0m\u001b[0;34m.\u001b[0m\u001b[0mformat\u001b[0m\u001b[0;34m(\u001b[0m\u001b[0mpca\u001b[0m\u001b[0;34m.\u001b[0m\u001b[0mn_components_\u001b[0m\u001b[0;34m)\u001b[0m\u001b[0;34m)\u001b[0m\u001b[0;34m\u001b[0m\u001b[0;34m\u001b[0m\u001b[0m\n",
            "\u001b[0;31mAttributeError\u001b[0m: 'PCA' object has no attribute 'explained_variance_ratio_'"
          ]
        }
      ]
    },
    {
      "cell_type": "code",
      "metadata": {
        "colab": {
          "base_uri": "https://localhost:8080/",
          "height": 656
        },
        "id": "93NKp6hZcKQy",
        "outputId": "8066874a-c598-4408-b701-d9a9120c9dcc"
      },
      "source": [
        "import numpy as np\n",
        "sns.set(style = 'whitegrid')\n",
        "\n",
        "corr = df2.iloc[:, :14].corr()\n",
        "mask = np.zeros_like(corr, dtype=np.bool)\n",
        "mask[np.triu_indices_from(mask)] = True\n",
        "\n",
        "\n",
        "f, ax = plt.subplots(figsize=(11, 9))\n",
        "\n",
        "cmap = sns.diverging_palette(220, 10, as_cmap=True)\n",
        "\n",
        "\n",
        "sns.heatmap(corr, mask=mask, cmap=cmap, vmax=.3, center=0,\n",
        "            square=True, linewidths=.5, cbar_kws={\"shrink\": .5})\n",
        "plt.show();"
      ],
      "execution_count": null,
      "outputs": [
        {
          "output_type": "display_data",
          "data": {
            "image/png": "[encoded data removed]",
            "text/plain": [
              "<Figure size 792x648 with 2 Axes>"
            ]
          },
          "metadata": {}
        }
      ]
    },
    {
      "cell_type": "markdown",
      "metadata": {
        "id": "Qw2ePqi2sSMA"
      },
      "source": [
        "LG without PCA"
      ]
    },
    {
      "cell_type": "code",
      "metadata": {
        "id": "n8-tP26XcKQz"
      },
      "source": [
        "#x_train_pca = pca.transform(x_train_s)\n",
        "#x_test_pca = pca.transform(x_test_s)\n",
        "\n",
        "lg = LogisticRegression(C = 1000, solver = 'lbfgs', max_iter = 1000)\n",
        "lg.fit(x_train_s, y_train)\n",
        "\n",
        "y_predict_test = lg.predict(x_test_s)"
      ],
      "execution_count": null,
      "outputs": []
    },
    {
      "cell_type": "code",
      "metadata": {
        "colab": {
          "base_uri": "https://localhost:8080/"
        },
        "id": "eKXH8Rh-cKQz",
        "outputId": "bb6a5192-cb88-476f-c867-40e7897ddf9f"
      },
      "source": [
        "from sklearn.metrics import accuracy_score, f1_score, confusion_matrix, classification_report\n",
        "from sklearn.metrics import roc_auc_score, plot_roc_curve, precision_score, recall_score\n",
        "print(\"Logistic Regression Model\")\n",
        "print('Precision Score: ', round(precision_score(y_test,y_predict_test), 2)*100)\n",
        "print('Recall Score: ', round(recall_score(y_test,y_predict_test), 2)*100)\n",
        "print('F1 Score: ', round(f1_score(y_test, y_predict_test), 2)*100)\n",
        "print('Accuracy Score: ', round(accuracy_score(y_test, y_predict_test), 2)*100)\n",
        "print('ROC AUC: ', roc_auc_score(y_test,y_predict_test))\n",
        "print('classification report:\\n', classification_report(y_test, y_predict_test))"
      ],
      "execution_count": null,
      "outputs": [
        {
          "output_type": "stream",
          "name": "stdout",
          "text": [
            "Logistic Regression Model\n",
            "Precision Score:  83.0\n",
            "Recall Score:  89.0\n",
            "F1 Score:  86.0\n",
            "Accuracy Score:  84.0\n",
            "ROC AUC:  0.8387951242381622\n",
            "classification report:\n",
            "               precision    recall  f1-score   support\n",
            "\n",
            "           0       0.86      0.79      0.82       135\n",
            "           1       0.83      0.89      0.86       158\n",
            "\n",
            "    accuracy                           0.84       293\n",
            "   macro avg       0.85      0.84      0.84       293\n",
            "weighted avg       0.84      0.84      0.84       293\n",
            "\n"
          ]
        }
      ]
    },
    {
      "cell_type": "markdown",
      "metadata": {
        "id": "MTxnawG5sVKU"
      },
      "source": [
        "LG with PCA"
      ]
    },
    {
      "cell_type": "code",
      "metadata": {
        "colab": {
          "base_uri": "https://localhost:8080/"
        },
        "id": "uOuPqxP2cKQ0",
        "outputId": "6aac7e43-47e7-42c9-d5d1-b4f492df45d2"
      },
      "source": [
        "from sklearn.linear_model import LogisticRegression\n",
        "from sklearn.decomposition import PCA\n",
        "from sklearn.pipeline import Pipeline\n",
        "from sklearn.model_selection import GridSearchCV\n",
        "from sklearn import preprocessing\n",
        "\n",
        "pipeline = Pipeline([\n",
        "    ('standardization', preprocessing.StandardScaler()),\n",
        "    ('pca', PCA()),    \n",
        "    ('lg', LogisticRegression(solver ='lbfgs', max_iter = 5000))])\n",
        "\n",
        "param_grid = {\n",
        "  'lg__C': [1000, 100, 10, 1, 0.1, 0.01],\n",
        "  'pca__n_components':  [10,11,12,13,14,15,16,17,18,19,20,21,22,23,24,25,26,27,28,29,30]\n",
        "}\n",
        "# using cross validation we get grid\n",
        "grid = GridSearchCV(pipeline, cv = 5, param_grid = param_grid, scoring = 'roc_auc', refit=True, verbose=1)\n",
        "grid_fit = grid.fit(x_train, y_train)\n",
        "pipeline.get_params().keys()"
      ],
      "execution_count": null,
      "outputs": [
        {
          "output_type": "stream",
          "name": "stdout",
          "text": [
            "Fitting 5 folds for each of 126 candidates, totalling 630 fits\n"
          ]
        },
        {
          "output_type": "execute_result",
          "data": {
            "text/plain": [
              "dict_keys(['memory', 'steps', 'verbose', 'standardization', 'pca', 'lg', 'standardization__copy', 'standardization__with_mean', 'standardization__with_std', 'pca__copy', 'pca__iterated_power', 'pca__n_components', 'pca__random_state', 'pca__svd_solver', 'pca__tol', 'pca__whiten', 'lg__C', 'lg__class_weight', 'lg__dual', 'lg__fit_intercept', 'lg__intercept_scaling', 'lg__l1_ratio', 'lg__max_iter', 'lg__multi_class', 'lg__n_jobs', 'lg__penalty', 'lg__random_state', 'lg__solver', 'lg__tol', 'lg__verbose', 'lg__warm_start'])"
            ]
          },
          "metadata": {},
          "execution_count": 42
        }
      ]
    },
    {
      "cell_type": "code",
      "metadata": {
        "colab": {
          "base_uri": "https://localhost:8080/"
        },
        "id": "qgACMR_BwNtk",
        "outputId": "6037c34a-9468-47f4-af67-c0c5a1765d65"
      },
      "source": [
        "grid.best_estimator_"
      ],
      "execution_count": null,
      "outputs": [
        {
          "output_type": "execute_result",
          "data": {
            "text/plain": [
              "Pipeline(steps=[('standardization', StandardScaler()),\n",
              "                ('pca', PCA(n_components=30)),\n",
              "                ('lg', LogisticRegression(C=1000, max_iter=5000))])"
            ]
          },
          "metadata": {},
          "execution_count": 43
        }
      ]
    },
    {
      "cell_type": "code",
      "metadata": {
        "id": "sMBEkXQjcKQ1"
      },
      "source": [
        "y_grid_p=grid.predict(x_test)"
      ],
      "execution_count": null,
      "outputs": []
    },
    {
      "cell_type": "code",
      "metadata": {
        "colab": {
          "base_uri": "https://localhost:8080/"
        },
        "id": "IwwSn8dTcKQ1",
        "outputId": "dc1cc50a-0456-466a-ee2c-05ccbd8f6664"
      },
      "source": [
        "from sklearn.metrics import accuracy_score, f1_score, confusion_matrix, classification_report\n",
        "from sklearn.metrics import roc_auc_score, plot_roc_curve, precision_score, recall_score\n",
        "print(\"Logistic Regression Model with best parameters\")\n",
        "print('Precision Score: ', round(precision_score(y_test,y_grid_p), 2)*100)\n",
        "print('Recall Score: ', round(recall_score(y_test,y_grid_p), 2)*100)\n",
        "print('F1 Score: ', round(f1_score(y_test, y_grid_p), 2)*100)\n",
        "print('Accuracy Score: ', round(accuracy_score(y_test, y_grid_p), 2)*100)\n",
        "print('ROC AUC: ', roc_auc_score(y_test,y_grid_p))\n",
        "print('classification report:\\n', classification_report(y_test, y_grid_p))"
      ],
      "execution_count": null,
      "outputs": [
        {
          "output_type": "stream",
          "name": "stdout",
          "text": [
            "Logistic Regression Model with best parameters\n",
            "Precision Score:  83.0\n",
            "Recall Score:  90.0\n",
            "F1 Score:  86.0\n",
            "Accuracy Score:  85.0\n",
            "ROC AUC:  0.8419596812001876\n",
            "classification report:\n",
            "               precision    recall  f1-score   support\n",
            "\n",
            "           0       0.87      0.79      0.82       135\n",
            "           1       0.83      0.90      0.86       158\n",
            "\n",
            "    accuracy                           0.85       293\n",
            "   macro avg       0.85      0.84      0.84       293\n",
            "weighted avg       0.85      0.85      0.85       293\n",
            "\n"
          ]
        }
      ]
    },
    {
      "cell_type": "code",
      "metadata": {
        "colab": {
          "base_uri": "https://localhost:8080/"
        },
        "id": "Y03nqL97xyi9",
        "outputId": "df3d7235-5a94-44c5-ee33-cad9c33186d8"
      },
      "source": [
        "x_train_s[0:1]"
      ],
      "execution_count": null,
      "outputs": [
        {
          "output_type": "execute_result",
          "data": {
            "text/plain": [
              "array([[ 0.21980158, -0.12357111, -0.215557  , -0.18962739, -0.05936321,\n",
              "        -0.18074299, -0.10170953, -0.09276773, -0.09276773, -0.08796935,\n",
              "        -0.17021393, -0.05852057, -0.05065862,  2.05155767, -0.70891756,\n",
              "        -0.67118928, -0.09733751, -0.13507407, -0.19039723, -0.20439613,\n",
              "        -0.12489163, -0.19279041,  2.73728947, -0.17801725, -0.08290267,\n",
              "        -0.2651785 , -0.24033671, -0.20439613, -0.21110017, -0.11764706,\n",
              "        -0.10170953, -0.16754156, -0.33617026, -0.40192796, -0.25394257,\n",
              "        -0.16754156]])"
            ]
          },
          "metadata": {},
          "execution_count": 65
        }
      ]
    },
    {
      "cell_type": "code",
      "metadata": {
        "colab": {
          "base_uri": "https://localhost:8080/",
          "height": 234
        },
        "id": "vjqTjWRNdOZ1",
        "outputId": "1e8042a6-d568-4c46-bf76-0a938d20f939"
      },
      "source": [
        "\n",
        "\n",
        "from numpy import where\n",
        "from numpy import meshgrid\n",
        "from numpy import arange\n",
        "from numpy import hstack\n",
        "from sklearn.datasets import make_blobs\n",
        "from sklearn.linear_model import LogisticRegression\n",
        "from matplotlib import pyplot\n",
        "#X, y = make_blobs(n_samples=1000, centers=2, n_features=2, random_state=1, cluster_std=3)\n",
        "min1, max1 = x_train_s[0: 1].min()-1, x_train_s[0: 1].max()+1\n",
        "min2, max2 = x_train_s[1: 2].min()-1, x_train_s[1: 2].max()+1\n",
        "x1grid = arange(min1, max1, 5)\n",
        "x2grid = arange(min2, max2, 5)\n",
        "xx, yy = meshgrid(x1grid, x2grid)\n",
        "r1, r2 = xx.flatten(), yy.flatten()\n",
        "r1, r2 = r1.reshape((len(r1), 1)), r2.reshape((len(r2), 1))\n",
        "grid_graph = hstack((r1,r2))\n",
        "zz = y_grid_p.reshape(xx.shape)\n",
        "pyplot.contourf(xx, yy, zz, cmap='Paired')\n",
        "for class_value in range(2):\n",
        "\trow_ix = where(y_train == class_value)\n",
        "\tpyplot.scatter(x_train_s[ row_ix, 1], x_train_s[ row_ix, 2], cmap='Paired')"
      ],
      "execution_count": null,
      "outputs": [
        {
          "output_type": "error",
          "ename": "ValueError",
          "evalue": "ignored",
          "traceback": [
            "\u001b[0;31m---------------------------------------------------------------------------\u001b[0m",
            "\u001b[0;31mValueError\u001b[0m                                Traceback (most recent call last)",
            "\u001b[0;32m<ipython-input-66-a8be321b43a0>\u001b[0m in \u001b[0;36m<module>\u001b[0;34m()\u001b[0m\n\u001b[1;32m     17\u001b[0m \u001b[0mr1\u001b[0m\u001b[0;34m,\u001b[0m \u001b[0mr2\u001b[0m \u001b[0;34m=\u001b[0m \u001b[0mr1\u001b[0m\u001b[0;34m.\u001b[0m\u001b[0mreshape\u001b[0m\u001b[0;34m(\u001b[0m\u001b[0;34m(\u001b[0m\u001b[0mlen\u001b[0m\u001b[0;34m(\u001b[0m\u001b[0mr1\u001b[0m\u001b[0;34m)\u001b[0m\u001b[0;34m,\u001b[0m \u001b[0;36m1\u001b[0m\u001b[0;34m)\u001b[0m\u001b[0;34m)\u001b[0m\u001b[0;34m,\u001b[0m \u001b[0mr2\u001b[0m\u001b[0;34m.\u001b[0m\u001b[0mreshape\u001b[0m\u001b[0;34m(\u001b[0m\u001b[0;34m(\u001b[0m\u001b[0mlen\u001b[0m\u001b[0;34m(\u001b[0m\u001b[0mr2\u001b[0m\u001b[0;34m)\u001b[0m\u001b[0;34m,\u001b[0m \u001b[0;36m1\u001b[0m\u001b[0;34m)\u001b[0m\u001b[0;34m)\u001b[0m\u001b[0;34m\u001b[0m\u001b[0;34m\u001b[0m\u001b[0m\n\u001b[1;32m     18\u001b[0m \u001b[0mgrid_graph\u001b[0m \u001b[0;34m=\u001b[0m \u001b[0mhstack\u001b[0m\u001b[0;34m(\u001b[0m\u001b[0;34m(\u001b[0m\u001b[0mr1\u001b[0m\u001b[0;34m,\u001b[0m\u001b[0mr2\u001b[0m\u001b[0;34m)\u001b[0m\u001b[0;34m)\u001b[0m\u001b[0;34m\u001b[0m\u001b[0;34m\u001b[0m\u001b[0m\n\u001b[0;32m---> 19\u001b[0;31m \u001b[0mzz\u001b[0m \u001b[0;34m=\u001b[0m \u001b[0my_grid_p\u001b[0m\u001b[0;34m.\u001b[0m\u001b[0mreshape\u001b[0m\u001b[0;34m(\u001b[0m\u001b[0mxx\u001b[0m\u001b[0;34m.\u001b[0m\u001b[0mshape\u001b[0m\u001b[0;34m)\u001b[0m\u001b[0;34m\u001b[0m\u001b[0;34m\u001b[0m\u001b[0m\n\u001b[0m\u001b[1;32m     20\u001b[0m \u001b[0mpyplot\u001b[0m\u001b[0;34m.\u001b[0m\u001b[0mcontourf\u001b[0m\u001b[0;34m(\u001b[0m\u001b[0mxx\u001b[0m\u001b[0;34m,\u001b[0m \u001b[0myy\u001b[0m\u001b[0;34m,\u001b[0m \u001b[0mzz\u001b[0m\u001b[0;34m,\u001b[0m \u001b[0mcmap\u001b[0m\u001b[0;34m=\u001b[0m\u001b[0;34m'Paired'\u001b[0m\u001b[0;34m)\u001b[0m\u001b[0;34m\u001b[0m\u001b[0;34m\u001b[0m\u001b[0m\n\u001b[1;32m     21\u001b[0m \u001b[0;32mfor\u001b[0m \u001b[0mclass_value\u001b[0m \u001b[0;32min\u001b[0m \u001b[0mrange\u001b[0m\u001b[0;34m(\u001b[0m\u001b[0;36m2\u001b[0m\u001b[0;34m)\u001b[0m\u001b[0;34m:\u001b[0m\u001b[0;34m\u001b[0m\u001b[0;34m\u001b[0m\u001b[0m\n",
            "\u001b[0;31mValueError\u001b[0m: cannot reshape array of size 293 into shape (2,2)"
          ]
        }
      ]
    },
    {
      "cell_type": "markdown",
      "metadata": {
        "id": "uVaRs_nAstb3"
      },
      "source": [
        "DT without PCA"
      ]
    },
    {
      "cell_type": "code",
      "metadata": {
        "id": "FVyyfJnicKQ1"
      },
      "source": [
        "\n",
        "\n",
        "# Decision Tree Classifier\n",
        "from sklearn import tree\n",
        "\n",
        "clf = tree.DecisionTreeClassifier()\n",
        "clf = clf.fit(x_train_s, y_train)"
      ],
      "execution_count": null,
      "outputs": []
    },
    {
      "cell_type": "code",
      "metadata": {
        "id": "J6PEvAoZcKQ2"
      },
      "source": [
        "y_pred=clf.predict(x_test_s)"
      ],
      "execution_count": null,
      "outputs": []
    },
    {
      "cell_type": "code",
      "metadata": {
        "colab": {
          "base_uri": "https://localhost:8080/"
        },
        "id": "lCWd5JeocKQ2",
        "outputId": "d01b56c9-8c7e-467a-a024-7fd4127e865f"
      },
      "source": [
        "print(\"Decision Tree  Model\")\n",
        "print('Precision Score: ', round(precision_score(y_test,y_pred), 2)*100)\n",
        "print('Recall Score: ', round(recall_score(y_test,y_pred), 2)*100)\n",
        "print('F1 Score: ', round(f1_score(y_test, y_pred), 2)*100)\n",
        "print('Accuracy Score: ', round(accuracy_score(y_test, y_pred), 2)*100)\n",
        "print('ROC AUC: ',roc_auc_score(y_test,y_pred))\n",
        "print('classification report:\\n', classification_report(y_test, y_pred))"
      ],
      "execution_count": null,
      "outputs": [
        {
          "output_type": "stream",
          "name": "stdout",
          "text": [
            "Decision Tree  Model\n",
            "Precision Score:  91.0\n",
            "Recall Score:  87.0\n",
            "F1 Score:  89.0\n",
            "Accuracy Score:  89.0\n",
            "ROC AUC:  0.8885607126113455\n",
            "classification report:\n",
            "               precision    recall  f1-score   support\n",
            "\n",
            "           0       0.86      0.90      0.88       135\n",
            "           1       0.91      0.87      0.89       158\n",
            "\n",
            "    accuracy                           0.89       293\n",
            "   macro avg       0.89      0.89      0.89       293\n",
            "weighted avg       0.89      0.89      0.89       293\n",
            "\n"
          ]
        }
      ]
    },
    {
      "cell_type": "markdown",
      "metadata": {
        "id": "ARMHV7Y2s0dU"
      },
      "source": [
        "DT with PCA"
      ]
    },
    {
      "cell_type": "code",
      "metadata": {
        "id": "f50hREFauRvL"
      },
      "source": [
        "from sklearn.tree import DecisionTreeClassifier\n",
        "pipeline = Pipeline([\n",
        "    ('standardization', preprocessing.StandardScaler()),\n",
        "    ('pca', PCA()),    \n",
        "    ('dt', DecisionTreeClassifier())])\n"
      ],
      "execution_count": null,
      "outputs": []
    },
    {
      "cell_type": "code",
      "metadata": {
        "id": "2AkDYgcrcKQ3"
      },
      "source": [
        "params = {\n",
        "    'dt__max_depth': [2, 3, 5, 10, 20],\n",
        "    'dt__min_samples_leaf': [5, 10, 20, 50, 100],\n",
        "    'dt__criterion': [\"gini\", \"entropy\"],\n",
        "    'pca__n_components':  [10,11,12,13,14,15,16,17,18,19,20,21,22,23,24,25,26,27,28,29,30]\n",
        "}"
      ],
      "execution_count": null,
      "outputs": []
    },
    {
      "cell_type": "code",
      "metadata": {
        "id": "J3nzeZ0hcKQ3"
      },
      "source": [
        "grid_search = GridSearchCV(pipeline, \n",
        "                           param_grid=params, \n",
        "                           cv=5, n_jobs=-1, verbose=1, scoring = \"roc_auc\")"
      ],
      "execution_count": null,
      "outputs": []
    },
    {
      "cell_type": "code",
      "metadata": {
        "colab": {
          "base_uri": "https://localhost:8080/"
        },
        "id": "mI8g4mhV0Bib",
        "outputId": "9e8122b0-6338-45c2-bc9d-4eef158c3b2d"
      },
      "source": [
        "pipeline.get_params().keys()"
      ],
      "execution_count": null,
      "outputs": [
        {
          "output_type": "execute_result",
          "data": {
            "text/plain": [
              "dict_keys(['memory', 'steps', 'verbose', 'standardization', 'pca', 'dt', 'standardization__copy', 'standardization__with_mean', 'standardization__with_std', 'pca__copy', 'pca__iterated_power', 'pca__n_components', 'pca__random_state', 'pca__svd_solver', 'pca__tol', 'pca__whiten', 'dt__ccp_alpha', 'dt__class_weight', 'dt__criterion', 'dt__max_depth', 'dt__max_features', 'dt__max_leaf_nodes', 'dt__min_impurity_decrease', 'dt__min_samples_leaf', 'dt__min_samples_split', 'dt__min_weight_fraction_leaf', 'dt__random_state', 'dt__splitter'])"
            ]
          },
          "metadata": {},
          "execution_count": 78
        }
      ]
    },
    {
      "cell_type": "code",
      "metadata": {
        "colab": {
          "base_uri": "https://localhost:8080/"
        },
        "id": "nPjjpZBRcKQ3",
        "outputId": "e5c37d77-764c-4c14-f6d6-d85a2a97fa6e"
      },
      "source": [
        "grid_search.fit(x_train, y_train)\n"
      ],
      "execution_count": null,
      "outputs": [
        {
          "output_type": "stream",
          "name": "stdout",
          "text": [
            "Fitting 5 folds for each of 1050 candidates, totalling 5250 fits\n"
          ]
        },
        {
          "output_type": "execute_result",
          "data": {
            "text/plain": [
              "GridSearchCV(cv=5,\n",
              "             estimator=Pipeline(steps=[('standardization', StandardScaler()),\n",
              "                                       ('pca', PCA()),\n",
              "                                       ('dt', DecisionTreeClassifier())]),\n",
              "             n_jobs=-1,\n",
              "             param_grid={'dt__criterion': ['gini', 'entropy'],\n",
              "                         'dt__max_depth': [2, 3, 5, 10, 20],\n",
              "                         'dt__min_samples_leaf': [5, 10, 20, 50, 100],\n",
              "                         'pca__n_components': [10, 11, 12, 13, 14, 15, 16, 17,\n",
              "                                               18, 19, 20, 21, 22, 23, 24, 25,\n",
              "                                               26, 27, 28, 29, 30]},\n",
              "             scoring='roc_auc', verbose=1)"
            ]
          },
          "metadata": {},
          "execution_count": 81
        }
      ]
    },
    {
      "cell_type": "code",
      "metadata": {
        "colab": {
          "base_uri": "https://localhost:8080/"
        },
        "id": "06VDSdFowGj7",
        "outputId": "cbf54597-e3d2-451d-92fc-89e8821b74fc"
      },
      "source": [
        "grid_search.best_estimator_"
      ],
      "execution_count": null,
      "outputs": [
        {
          "output_type": "execute_result",
          "data": {
            "text/plain": [
              "Pipeline(steps=[('standardization', StandardScaler()),\n",
              "                ('pca', PCA(n_components=28)),\n",
              "                ('dt',\n",
              "                 DecisionTreeClassifier(criterion='entropy', max_depth=20,\n",
              "                                        min_samples_leaf=10))])"
            ]
          },
          "metadata": {},
          "execution_count": 85
        }
      ]
    },
    {
      "cell_type": "code",
      "metadata": {
        "id": "2K7m2Ut9cKQ3"
      },
      "source": [
        "y_pred=grid_search.predict(x_test)"
      ],
      "execution_count": null,
      "outputs": []
    },
    {
      "cell_type": "code",
      "metadata": {
        "colab": {
          "base_uri": "https://localhost:8080/"
        },
        "id": "fvE7-u_PcKQ4",
        "outputId": "1f8d51a8-653c-4622-e312-6da620f80523"
      },
      "source": [
        "print(\"Decision Tree Model with best parameters\")\n",
        "print('Precision Score: ', round(precision_score(y_test,y_pred), 2)*100)\n",
        "print('Recall Score: ', round(recall_score(y_test,y_pred), 2)*100)\n",
        "print('F1 Score: ', round(f1_score(y_test, y_pred), 2)*100)\n",
        "print('Accuracy Score: ', round(accuracy_score(y_test, y_pred), 2)*100)\n",
        "print('ROC AUC: ', roc_auc_score(y_test,y_pred))\n",
        "print('classification report:\\n', classification_report(y_test, y_pred))"
      ],
      "execution_count": null,
      "outputs": [
        {
          "output_type": "stream",
          "name": "stdout",
          "text": [
            "Decision Tree Model with best parameters\n",
            "Precision Score:  87.0\n",
            "Recall Score:  84.0\n",
            "F1 Score:  85.0\n",
            "Accuracy Score:  85.0\n",
            "ROC AUC:  0.8473511486169714\n",
            "classification report:\n",
            "               precision    recall  f1-score   support\n",
            "\n",
            "           0       0.82      0.86      0.84       135\n",
            "           1       0.87      0.84      0.85       158\n",
            "\n",
            "    accuracy                           0.85       293\n",
            "   macro avg       0.85      0.85      0.85       293\n",
            "weighted avg       0.85      0.85      0.85       293\n",
            "\n"
          ]
        }
      ]
    },
    {
      "cell_type": "markdown",
      "metadata": {
        "id": "fYucrz3MurnW"
      },
      "source": [
        "RF without PCA"
      ]
    },
    {
      "cell_type": "code",
      "metadata": {
        "colab": {
          "base_uri": "https://localhost:8080/"
        },
        "id": "FgRLI6vecKQ4",
        "outputId": "f4050121-7ebd-43ae-a186-ff3195bf75fa"
      },
      "source": [
        "from sklearn.ensemble import RandomForestClassifier\n",
        "clf = RandomForestClassifier(random_state=0)\n",
        "\n",
        "clf.fit(x_train, y_train)\n",
        "\n",
        "y_pred = clf.predict(x_test)\n",
        "\n",
        "print('Model accuracy score with doors variable removed : {0:0.4f}'. format(accuracy_score(y_test, y_pred)*100))"
      ],
      "execution_count": null,
      "outputs": [
        {
          "output_type": "stream",
          "name": "stdout",
          "text": [
            "Model accuracy score with doors variable removed : 91.1263\n"
          ]
        }
      ]
    },
    {
      "cell_type": "code",
      "metadata": {
        "colab": {
          "base_uri": "https://localhost:8080/"
        },
        "id": "3oTosF5kcKQ5",
        "outputId": "f5960107-770a-4e5d-bfe0-e38d918ad1ae"
      },
      "source": [
        "print(\"Random Forest Model \")\n",
        "print('Precision Score: ', round(precision_score(y_test,y_pred), 2)*100)\n",
        "print('Recall Score: ', round(recall_score(y_test,y_pred), 2)*100)\n",
        "print('F1 Score: ', round(f1_score(y_test, y_pred), 2)*100)\n",
        "print('Accuracy Score: ', round(accuracy_score(y_test, y_pred), 2)*100)\n",
        "print('ROC AUC: ', roc_auc_score(y_test,y_pred))\n",
        "print('classification report:\\n', classification_report(y_test, y_pred))"
      ],
      "execution_count": null,
      "outputs": [
        {
          "output_type": "stream",
          "name": "stdout",
          "text": [
            "Random Forest Model \n",
            "Precision Score:  92.0\n",
            "Recall Score:  91.0\n",
            "F1 Score:  92.0\n",
            "Accuracy Score:  91.0\n",
            "ROC AUC:  0.911251758087201\n",
            "classification report:\n",
            "               precision    recall  f1-score   support\n",
            "\n",
            "           0       0.90      0.91      0.90       135\n",
            "           1       0.92      0.91      0.92       158\n",
            "\n",
            "    accuracy                           0.91       293\n",
            "   macro avg       0.91      0.91      0.91       293\n",
            "weighted avg       0.91      0.91      0.91       293\n",
            "\n"
          ]
        }
      ]
    },
    {
      "cell_type": "markdown",
      "metadata": {
        "id": "WvZYqua4u2ln"
      },
      "source": [
        "RF with PCA"
      ]
    },
    {
      "cell_type": "code",
      "metadata": {
        "id": "z8LLqcIwu8Qi"
      },
      "source": [
        "pipeline = Pipeline([\n",
        "    ('standardization', preprocessing.StandardScaler()),\n",
        "    ('pca', PCA()),    \n",
        "    ('rf', RandomForestClassifier())])"
      ],
      "execution_count": null,
      "outputs": []
    },
    {
      "cell_type": "code",
      "metadata": {
        "colab": {
          "base_uri": "https://localhost:8080/"
        },
        "id": "ngL90lw8cKQ5",
        "outputId": "d9a6fe0c-dfe5-4645-aaf7-64405111a54c"
      },
      "source": [
        "forest_params = [{'rf__max_depth': list(range(10, 15)), \n",
        "                  'rf__max_features': list(range(0,14)), \n",
        "                  'pca__n_components':  [10,11,12,13,14,15,16,17,18,19,20,21,22,23,24,25,26,27,28,29,30]}]\n",
        "\n",
        "clf = GridSearchCV(pipeline, forest_params, cv = 5, scoring='roc_auc', n_jobs = -1)\n",
        "\n",
        "clf.fit(x_train, y_train)\n"
      ],
      "execution_count": null,
      "outputs": [
        {
          "output_type": "stream",
          "name": "stderr",
          "text": [
            "/usr/local/lib/python3.7/dist-packages/sklearn/model_selection/_validation.py:372: FitFailedWarning: \n",
            "675 fits failed out of a total of 7350.\n",
            "The score on these train-test partitions for these parameters will be set to nan.\n",
            "If these failures are not expected, you can try to debug them by setting error_score='raise'.\n",
            "\n",
            "Below are more details about the failures:\n",
            "--------------------------------------------------------------------------------\n",
            "675 fits failed with the following error:\n",
            "Traceback (most recent call last):\n",
            "  File \"/usr/local/lib/python3.7/dist-packages/sklearn/model_selection/_validation.py\", line 681, in _fit_and_score\n",
            "    estimator.fit(X_train, y_train, **fit_params)\n",
            "  File \"/usr/local/lib/python3.7/dist-packages/sklearn/pipeline.py\", line 394, in fit\n",
            "    self._final_estimator.fit(Xt, y, **fit_params_last_step)\n",
            "  File \"/usr/local/lib/python3.7/dist-packages/sklearn/ensemble/_forest.py\", line 459, in fit\n",
            "    for i, t in enumerate(trees)\n",
            "  File \"/usr/local/lib/python3.7/dist-packages/joblib/parallel.py\", line 1043, in __call__\n",
            "    if self.dispatch_one_batch(iterator):\n",
            "  File \"/usr/local/lib/python3.7/dist-packages/joblib/parallel.py\", line 861, in dispatch_one_batch\n",
            "    self._dispatch(tasks)\n",
            "  File \"/usr/local/lib/python3.7/dist-packages/joblib/parallel.py\", line 779, in _dispatch\n",
            "    job = self._backend.apply_async(batch, callback=cb)\n",
            "  File \"/usr/local/lib/python3.7/dist-packages/joblib/_parallel_backends.py\", line 208, in apply_async\n",
            "    result = ImmediateResult(func)\n",
            "  File \"/usr/local/lib/python3.7/dist-packages/joblib/_parallel_backends.py\", line 572, in __init__\n",
            "    self.results = batch()\n",
            "  File \"/usr/local/lib/python3.7/dist-packages/joblib/parallel.py\", line 263, in __call__\n",
            "    for func, args, kwargs in self.items]\n",
            "  File \"/usr/local/lib/python3.7/dist-packages/joblib/parallel.py\", line 263, in <listcomp>\n",
            "    for func, args, kwargs in self.items]\n",
            "  File \"/usr/local/lib/python3.7/dist-packages/sklearn/utils/fixes.py\", line 211, in __call__\n",
            "    return self.function(*args, **kwargs)\n",
            "  File \"/usr/local/lib/python3.7/dist-packages/sklearn/ensemble/_forest.py\", line 185, in _parallel_build_trees\n",
            "    tree.fit(X, y, sample_weight=curr_sample_weight, check_input=False)\n",
            "  File \"/usr/local/lib/python3.7/dist-packages/sklearn/tree/_classes.py\", line 942, in fit\n",
            "    X_idx_sorted=X_idx_sorted,\n",
            "  File \"/usr/local/lib/python3.7/dist-packages/sklearn/tree/_classes.py\", line 308, in fit\n",
            "    raise ValueError(\"max_features must be in (0, n_features]\")\n",
            "ValueError: max_features must be in (0, n_features]\n",
            "\n",
            "  warnings.warn(some_fits_failed_message, FitFailedWarning)\n",
            "/usr/local/lib/python3.7/dist-packages/sklearn/model_selection/_search.py:972: UserWarning: One or more of the test scores are non-finite: [       nan 0.95141861 0.95840899 ... 0.97117055 0.97185134 0.97139074]\n",
            "  category=UserWarning,\n"
          ]
        },
        {
          "output_type": "execute_result",
          "data": {
            "text/plain": [
              "GridSearchCV(cv=5,\n",
              "             estimator=Pipeline(steps=[('standardization', StandardScaler()),\n",
              "                                       ('pca', PCA()),\n",
              "                                       ('rf', RandomForestClassifier())]),\n",
              "             n_jobs=-1,\n",
              "             param_grid=[{'pca__n_components': [10, 11, 12, 13, 14, 15, 16, 17,\n",
              "                                                18, 19, 20, 21, 22, 23, 24, 25,\n",
              "                                                26, 27, 28, 29, 30],\n",
              "                          'rf__max_depth': [10, 11, 12, 13, 14],\n",
              "                          'rf__max_features': [0, 1, 2, 3, 4, 5, 6, 7, 8, 9, 10,\n",
              "                                               11, 12, 13]}],\n",
              "             scoring='roc_auc')"
            ]
          },
          "metadata": {},
          "execution_count": 95
        }
      ]
    },
    {
      "cell_type": "code",
      "metadata": {
        "colab": {
          "base_uri": "https://localhost:8080/"
        },
        "id": "9ErK507DveXP",
        "outputId": "13e382f7-d2f0-498e-a4ba-6134bef8ea62"
      },
      "source": [
        "clf.best_estimator_"
      ],
      "execution_count": null,
      "outputs": [
        {
          "output_type": "execute_result",
          "data": {
            "text/plain": [
              "Pipeline(steps=[('standardization', StandardScaler()),\n",
              "                ('pca', PCA(n_components=19)),\n",
              "                ('rf', RandomForestClassifier(max_depth=14, max_features=1))])"
            ]
          },
          "metadata": {},
          "execution_count": 96
        }
      ]
    },
    {
      "cell_type": "code",
      "metadata": {
        "id": "18kRMWq2cKQ5"
      },
      "source": [
        "y_pred=clf.predict(x_test)"
      ],
      "execution_count": null,
      "outputs": []
    },
    {
      "cell_type": "code",
      "metadata": {
        "colab": {
          "base_uri": "https://localhost:8080/"
        },
        "id": "Q70W6nTKcKQ6",
        "outputId": "32da2ddb-2e87-4f0d-c5ea-edc9e9d61fea"
      },
      "source": [
        "print(\"Random Forest Model with best parameters\")\n",
        "print('Precision Score: ', round(precision_score(y_test,y_pred), 2)*100)\n",
        "print('Recall Score: ', round(recall_score(y_test,y_pred), 2)*100)\n",
        "print('F1 Score: ', round(f1_score(y_test, y_pred), 2)*100)\n",
        "print('Accuracy Score: ', round(accuracy_score(y_test, y_pred), 2)*100)\n",
        "print('ROC AUC: ', roc_auc_score(y_test,y_pred))\n",
        "print('classification report:\\n', classification_report(y_test, y_pred))"
      ],
      "execution_count": null,
      "outputs": [
        {
          "output_type": "stream",
          "name": "stdout",
          "text": [
            "Random Forest Model with best parameters\n",
            "Precision Score:  91.0\n",
            "Recall Score:  92.0\n",
            "F1 Score:  92.0\n",
            "Accuracy Score:  91.0\n",
            "ROC AUC:  0.9101734646038443\n",
            "classification report:\n",
            "               precision    recall  f1-score   support\n",
            "\n",
            "           0       0.91      0.90      0.90       135\n",
            "           1       0.91      0.92      0.92       158\n",
            "\n",
            "    accuracy                           0.91       293\n",
            "   macro avg       0.91      0.91      0.91       293\n",
            "weighted avg       0.91      0.91      0.91       293\n",
            "\n"
          ]
        }
      ]
    }
  ]
}